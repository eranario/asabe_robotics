{
 "cells": [
  {
   "cell_type": "code",
   "execution_count": 8,
   "id": "industrial-technology",
   "metadata": {},
   "outputs": [],
   "source": [
    "import torch\n",
    "import smbus\n",
    "import time\n",
    "import struct"
   ]
  },
  {
   "cell_type": "code",
   "execution_count": 9,
   "id": "qualified-roads",
   "metadata": {},
   "outputs": [
    {
     "name": "stdout",
     "output_type": "stream",
     "text": [
      "PyTorch version: 1.7.0\n",
      "CUDA available: True\n",
      "GPU device: NVIDIA Tegra X1\n"
     ]
    }
   ],
   "source": [
    "print(\"PyTorch version:\", torch.__version__)\n",
    "print(\"CUDA available:\", torch.cuda.is_available())\n",
    "\n",
    "if torch.cuda.is_available():\n",
    "    print(\"GPU device:\", torch.cuda.get_device_name(0))\n",
    "else:\n",
    "    print(\"CUDA not available — check installation.\")"
   ]
  },
  {
   "cell_type": "markdown",
   "id": "conceptual-journey",
   "metadata": {},
   "source": [
    "Test rotation speed"
   ]
  },
  {
   "cell_type": "code",
   "execution_count": 21,
   "id": "partial-drinking",
   "metadata": {},
   "outputs": [],
   "source": [
    "robot.left(0.5)   # ← your desired ROT_SPEED\n",
    "time.sleep(1.0)   # spin for 1 second\n",
    "robot.stop()"
   ]
  },
  {
   "cell_type": "markdown",
   "id": "driving-significance",
   "metadata": {},
   "source": [
    "Test Ultrasonic Sensors"
   ]
  },
  {
   "cell_type": "code",
   "execution_count": 10,
   "id": "raising-prompt",
   "metadata": {},
   "outputs": [
    {
     "name": "stdout",
     "output_type": "stream",
     "text": [
      "Sensor 1: 38 cm\n",
      "Sensor 1: 48 cm\n",
      "Sensor 1: 48 cm\n",
      "Sensor 1: 48 cm\n",
      "Sensor 1: 48 cm\n",
      "Sensor 1: 49 cm\n",
      "Sensor 1: 49 cm\n",
      "Sensor 1: 8 cm\n",
      "Sensor 1: 6 cm\n",
      "Sensor 1: 8 cm\n",
      "Sensor 1: 9 cm\n"
     ]
    },
    {
     "ename": "KeyboardInterrupt",
     "evalue": "",
     "output_type": "error",
     "traceback": [
      "\u001b[0;31m\u001b[0m",
      "\u001b[0;31mKeyboardInterrupt\u001b[0mTraceback (most recent call last)",
      "\u001b[0;32m<ipython-input-10-c7c8bdf8cf35>\u001b[0m in \u001b[0;36m<module>\u001b[0;34m\u001b[0m\n\u001b[1;32m     14\u001b[0m     \u001b[0md\u001b[0m \u001b[0;34m=\u001b[0m \u001b[0mdistance_cm1\u001b[0m\u001b[0;34m(\u001b[0m\u001b[0;34m)\u001b[0m\u001b[0;34m\u001b[0m\u001b[0;34m\u001b[0m\u001b[0m\n\u001b[1;32m     15\u001b[0m     \u001b[0mprint\u001b[0m\u001b[0;34m(\u001b[0m\u001b[0;34mf\"Sensor 1: {d} cm\"\u001b[0m\u001b[0;34m)\u001b[0m\u001b[0;34m\u001b[0m\u001b[0;34m\u001b[0m\u001b[0m\n\u001b[0;32m---> 16\u001b[0;31m     \u001b[0mtime\u001b[0m\u001b[0;34m.\u001b[0m\u001b[0msleep\u001b[0m\u001b[0;34m(\u001b[0m\u001b[0;36m1.0\u001b[0m\u001b[0;34m)\u001b[0m\u001b[0;34m\u001b[0m\u001b[0;34m\u001b[0m\u001b[0m\n\u001b[0m",
      "\u001b[0;31mKeyboardInterrupt\u001b[0m: "
     ]
    }
   ],
   "source": [
    "import smbus\n",
    "import time\n",
    "\n",
    "bus = smbus.SMBus(1)\n",
    "address = 8          # I2C address of Feather\n",
    "\n",
    "def distance_cm1():\n",
    "    \"\"\"Read ONLY Sensor 1 (cm1) – 4 bytes little-endian.\"\"\"\n",
    "    data = bus.read_i2c_block_data(address, 0, 4)  # <-- 4 bytes\n",
    "    cm1  = data[0] | (data[1] << 8) | (data[2] << 16) | (data[3] << 24)\n",
    "    return cm1\n",
    "\n",
    "while True:\n",
    "    d = distance_cm1()\n",
    "    print(f\"Sensor 1: {d} cm\")\n",
    "    time.sleep(1.0)\n"
   ]
  },
  {
   "cell_type": "code",
   "execution_count": 19,
   "id": "dutch-treaty",
   "metadata": {},
   "outputs": [],
   "source": [
    "\"\"\"\n",
    "Square-arena navigation with 1 front-mounted ultrasonic sensor\n",
    "──────────────────────────────────────────────────────────────\n",
    "* Board size            : 240 cm × 240 cm\n",
    "* Sensor I²C            : Feather M0 @ address 0x08\n",
    "* Sensor orientation    : 0°  (facing forward)\n",
    "* Robot platform        : NVIDIA JetBot (differential drive)\n",
    "* Pipeline              : 1) 360° scan  → pose\n",
    "                          2) Pure Pursuit → centre\n",
    "                          3) Optional re-localisation on the way\n",
    "                          4) Save wall hits + trajectory for plotting\n",
    "\"\"\"\n",
    "\n",
    "import numpy as np, time, smbus, matplotlib.pyplot as plt\n",
    "from jetbot import Robot\n",
    "\n",
    "# ───── CONSTANTS ────────────────────────────────────────────\n",
    "I2C_BUS, I2C_ADDRESS = 1, 0x08\n",
    "ARENA_W, ARENA_H     = 240.0, 240.0          # cm\n",
    "SENSOR_RANGE         = (2.0, 400.0)          # cm\n",
    "SENSOR_OFF           = 0.0                   # forward-facing\n",
    "STEP_DEG             = 3\n",
    "ROT_DEG_PER_SEC      = 20.0\n",
    "ROT_SPEED            = 0.5\n",
    "BASE_SPEED           = 0.35\n",
    "LOOKAHEAD_DIST       = 12.0                  # cm\n",
    "LOOP_DT              = 0.10                  # s\n",
    "RELLOC_PERIOD        = 6.0                   # s (0 = off)\n",
    "\n",
    "# ───── INITIALISE HARDWARE ─────────────────────────────────\n",
    "bus   = smbus.SMBus(I2C_BUS)\n",
    "robot = Robot()\n",
    "\n",
    "# ───── UTILITY FUNCTIONS ───────────────────────────────────\n",
    "def read_cm1():\n",
    "    d = bus.read_i2c_block_data(I2C_ADDRESS, 0, 4)\n",
    "    return d[0] | (d[1]<<8) | (d[2]<<16) | (d[3]<<24)\n",
    "\n",
    "wrap_pi = lambda a: (a+np.pi)%(2*np.pi)-np.pi\n",
    "\n",
    "def rotate_pts(pts, theta):\n",
    "    R = np.array([[np.cos(theta), -np.sin(theta)],\n",
    "                  [np.sin(theta),  np.cos(theta)]])\n",
    "    return pts @ R.T\n",
    "\n",
    "# ───── 1) FULL 360° SCAN ───────────────────────────────────\n",
    "def full_scan(step_deg=STEP_DEG):\n",
    "    hits, steps = [], int(360/step_deg)\n",
    "    for k in range(steps):\n",
    "        d = read_cm1()\n",
    "        if SENSOR_RANGE[0] <= d <= SENSOR_RANGE[1]:\n",
    "            ang = np.deg2rad(k*step_deg) + SENSOR_OFF\n",
    "            hits.append((d*np.cos(ang), d*np.sin(ang)))\n",
    "        robot.left(ROT_SPEED)\n",
    "        time.sleep(step_deg/ROT_DEG_PER_SEC)\n",
    "        robot.stop(); time.sleep(0.03)\n",
    "    return hits\n",
    "\n",
    "# ───── 2) POSE ESTIMATION ──────────────────────────────────\n",
    "def estimate_pose_from_hits(hits_robot, arena_w=ARENA_W, arena_h=ARENA_H):\n",
    "    pts = np.asarray(hits_robot)\n",
    "    if pts.shape[0] < 20: return None\n",
    "    best_err, best_theta, best_min = 1e9, None, None\n",
    "    for deg in range(-90, 90):                          # 180° range is enough\n",
    "        th = np.deg2rad(deg)\n",
    "        rot = rotate_pts(pts, th)\n",
    "        minx,maxx, miny,maxy = rot[:,0].min(),rot[:,0].max(), rot[:,1].min(),rot[:,1].max()\n",
    "        err = abs((maxx-minx)-arena_w) + abs((maxy-miny)-arena_h)\n",
    "        if err<best_err: best_err,best_theta,best_min = err,th,(minx,miny)\n",
    "    if best_theta is None: return None\n",
    "    x_world,y_world = -best_min[0], -best_min[1]\n",
    "    return x_world, y_world, wrap_pi(best_theta)\n",
    "\n",
    "# ───── 3) PURE-PURSUIT CONTROLLER ──────────────────────────\n",
    "find_lookahead = lambda pos, path, L=LOOKAHEAD_DIST: \\\n",
    "    next((np.array(p) for p in path[1:] if np.hypot(p[0]-pos[0], p[1]-pos[1])>=L), np.array(path[-1]))\n",
    "\n",
    "def pure_pursuit_step(position, heading, lookahead):\n",
    "    x,y = position; dx,dy = lookahead[0]-x, lookahead[1]-y\n",
    "    lx  =  np.cos(-heading)*dx - np.sin(-heading)*dy\n",
    "    ly  =  np.sin(-heading)*dx + np.cos(-heading)*dy\n",
    "    if lx<=0.01: return -BASE_SPEED, BASE_SPEED\n",
    "    curv = 2*ly/(lx**2+ly**2);  ω = BASE_SPEED*curv\n",
    "    l,r  = BASE_SPEED-ω, BASE_SPEED+ω\n",
    "    m = max(abs(l),abs(r),1.0)\n",
    "    return l/m, r/m\n",
    "\n",
    "# ───── 4) MAIN NAV LOOP  (+ SAVE DATA) ─────────────────────\n",
    "def drive_to_center(initial_pose, wall_hits_world, relocalise_period=RELLOC_PERIOD):\n",
    "    x,y,θ   = initial_pose\n",
    "    goal    = np.array([ARENA_W/2, ARENA_H/2])\n",
    "    path    = [initial_pose[:2], goal]\n",
    "    t_last  = time.time()\n",
    "    trajectory = [(x,y)]                      # ⇦ record path\n",
    "    print(f\"Start pose ≈ ({x:.1f},{y:.1f},{np.rad2deg(θ):.1f}°)\")\n",
    "\n",
    "    while True:\n",
    "        # Pure Pursuit\n",
    "        lookahead   = find_lookahead((x,y), path)\n",
    "        ls,rs       = pure_pursuit_step((x,y), θ, lookahead)\n",
    "        robot.set_motors(ls, rs);  time.sleep(LOOP_DT)\n",
    "\n",
    "        # Dead-reckoning\n",
    "        dist = BASE_SPEED*LOOP_DT*100\n",
    "        x += dist*np.cos(θ);  y += dist*np.sin(θ)\n",
    "        θ  = wrap_pi(np.arctan2(goal[1]-y, goal[0]-x))\n",
    "        trajectory.append((x,y))\n",
    "\n",
    "        # Goal check\n",
    "        if np.hypot(goal[0]-x, goal[1]-y) < 4: break\n",
    "\n",
    "        # Periodic re-localisation\n",
    "        if relocalise_period>0 and time.time()-t_last>=relocalise_period:\n",
    "            robot.stop(); time.sleep(0.2)\n",
    "            new_hits = full_scan()\n",
    "            pose = estimate_pose_from_hits(new_hits)\n",
    "            if pose:\n",
    "                x,y,θ = pose\n",
    "                wh = rotate_pts(np.asarray(new_hits), θ) + np.array([[x,y]])\n",
    "                wall_hits_world.extend(wh.tolist())          # ⇦ log extra hits\n",
    "                print(f\"↺ Relocalised → ({x:.1f},{y:.1f})\")\n",
    "            t_last = time.time()\n",
    "\n",
    "        print(f\"• Est ({x:.1f},{y:.1f})  dist→goal {np.hypot(goal[0]-x, goal[1]-y):.1f} cm\", end='\\r')\n",
    "\n",
    "    robot.stop(); print(\"\\n✅ Centre reached.\")\n",
    "    return trajectory, (x,y,θ)"
   ]
  },
  {
   "cell_type": "code",
   "execution_count": 20,
   "id": "superb-lemon",
   "metadata": {},
   "outputs": [
    {
     "name": "stdout",
     "output_type": "stream",
     "text": [
      "🔄 360° scan …\n",
      "\n",
      "⛔ Interrupted by user.\n"
     ]
    }
   ],
   "source": [
    "try:\n",
    "    print(\"🔄 360° scan …\")\n",
    "    raw_hits = full_scan()\n",
    "    pose     = estimate_pose_from_hits(raw_hits)\n",
    "    if pose is None: raise RuntimeError(\"Initial localisation failed.\")\n",
    "\n",
    "    # Convert first scan to world frame & store\n",
    "    wall_hits_world = (rotate_pts(np.asarray(raw_hits), pose[2])\n",
    "                       + np.array([[pose[0], pose[1]]])).tolist()\n",
    "\n",
    "    traj, final_pose = drive_to_center(pose, wall_hits_world)\n",
    "\n",
    "    # Save everything\n",
    "    np.savez(\"robot_run.npz\",\n",
    "             wall_hits=np.asarray(wall_hits_world),\n",
    "             trajectory=np.asarray(traj),\n",
    "             final_pose=np.asarray(final_pose))\n",
    "    print(\"📁  Data saved to robot_run.npz\")\n",
    "\n",
    "except KeyboardInterrupt:\n",
    "    print(\"\\n⛔ Interrupted by user.\")\n",
    "finally:\n",
    "    robot.stop()\n"
   ]
  },
  {
   "cell_type": "code",
   "execution_count": 12,
   "id": "casual-meter",
   "metadata": {},
   "outputs": [
    {
     "data": {
      "image/png": "[encoded data removed]",
      "text/plain": [
       "<Figure size 432x432 with 1 Axes>"
      ]
     },
     "metadata": {
      "needs_background": "light"
     },
     "output_type": "display_data"
    }
   ],
   "source": [
    "import numpy as np, matplotlib.pyplot as plt\n",
    "ARENA_W, ARENA_H = 240, 240          # ← keep in sync\n",
    "\n",
    "d = np.load(\"robot_run.npz\", allow_pickle=True)\n",
    "hits = d[\"wall_hits\"];  traj = d[\"trajectory\"];  final = d[\"final_pose\"]\n",
    "\n",
    "plt.figure(figsize=(6,6))\n",
    "plt.scatter(hits[:,0], hits[:,1], s=4, label=\"Wall hits\", alpha=.6)\n",
    "plt.plot(traj[:,0], traj[:,1], '-o', ms=3, label=\"Trajectory\")\n",
    "plt.scatter(final[0], final[1], c='r', marker='x', s=80, label=\"Final pose\")\n",
    "plt.scatter(ARENA_W/2, ARENA_H/2, c='g', marker='*', s=120, label=\"Goal centre\")\n",
    "plt.xlim(0,ARENA_W); plt.ylim(0,ARENA_H); plt.gca().set_aspect('equal')\n",
    "plt.grid(); plt.legend(); plt.title(\"Robot Navigation Run\")\n",
    "plt.show()\n"
   ]
  },
  {
   "cell_type": "code",
   "execution_count": null,
   "id": "flexible-worth",
   "metadata": {},
   "outputs": [],
   "source": []
  }
 ],
 "metadata": {
  "kernelspec": {
   "display_name": "Python 3",
   "language": "python",
   "name": "python3"
  },
  "language_info": {
   "codemirror_mode": {
    "name": "ipython",
    "version": 3
   },
   "file_extension": ".py",
   "mimetype": "text/x-python",
   "name": "python",
   "nbconvert_exporter": "python",
   "pygments_lexer": "ipython3",
   "version": "3.6.9"
  }
 },
 "nbformat": 4,
 "nbformat_minor": 5
}
